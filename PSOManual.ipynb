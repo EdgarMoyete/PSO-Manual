{
 "cells": [
  {
   "cell_type": "code",
   "execution_count": 1,
   "metadata": {},
   "outputs": [],
   "source": [
    "#Edgar Moises Hernandez-Gonzalez\n",
    "#12/06/19-24/06/19\n",
    "#Optimizacion por enjambre de particulas\n",
    "#Minimizar z = f(x,y) = x^2 + y^2"
   ]
  },
  {
   "cell_type": "code",
   "execution_count": 2,
   "metadata": {},
   "outputs": [],
   "source": [
    "import numpy as np\n",
    "import matplotlib.pyplot as plt"
   ]
  },
  {
   "cell_type": "code",
   "execution_count": 3,
   "metadata": {},
   "outputs": [],
   "source": [
    "#tamano de la poblacion\n",
    "n = 32\n",
    "#numero de variables\n",
    "m = 2"
   ]
  },
  {
   "cell_type": "code",
   "execution_count": 4,
   "metadata": {},
   "outputs": [],
   "source": [
    "#inicializar cumulo (enjambre)\n",
    "posicion = np.random.rand(n, m)\n",
    "#inicializar velocidades\n",
    "velocidad = np.random.rand(n, m)"
   ]
  },
  {
   "cell_type": "code",
   "execution_count": 5,
   "metadata": {},
   "outputs": [],
   "source": [
    "#estos no deberian ser aleatorios, pero asi dan mejores resultados\n",
    "w = np.random.rand()\n",
    "c1 = np.random.rand()\n",
    "c2 = np.random.rand()"
   ]
  },
  {
   "cell_type": "code",
   "execution_count": 6,
   "metadata": {},
   "outputs": [],
   "source": [
    "#fitness para x^2 + y^2\n",
    "fitness = np.zeros(n)\n",
    "for i in range(n):\n",
    "    fitness[i] = posicion[i, 0]**2 + posicion[i, 1]**2"
   ]
  },
  {
   "cell_type": "code",
   "execution_count": 7,
   "metadata": {},
   "outputs": [],
   "source": [
    "#inicializar pBest\n",
    "pBest = np.zeros((n,m))\n",
    "for i in range(n):\n",
    "    for j in range(m):\n",
    "        pBest[i, j] = posicion[i, j]"
   ]
  },
  {
   "cell_type": "code",
   "execution_count": 8,
   "metadata": {},
   "outputs": [
    {
     "name": "stdout",
     "output_type": "stream",
     "text": [
      "Global Best: [0.0729449  0.01378947]\n",
      "f(x)= 0.005511108303719768\n"
     ]
    }
   ],
   "source": [
    "valorMin = np.min(fitness)\n",
    "indiceMin = np.argmin(fitness)\n",
    "gBest = np.zeros(2)\n",
    "gBest[0] = posicion[indiceMin, 0]\n",
    "gBest[1] = posicion[indiceMin, 1]\n",
    "print(\"Global Best:\", gBest)\n",
    "print(\"f(x)=\", valorMin)"
   ]
  },
  {
   "cell_type": "code",
   "execution_count": 9,
   "metadata": {},
   "outputs": [
    {
     "data": {
      "image/png": "[encoded data removed]",
      "text/plain": [
       "<Figure size 432x288 with 1 Axes>"
      ]
     },
     "metadata": {
      "needs_background": "light"
     },
     "output_type": "display_data"
    }
   ],
   "source": [
    "plt.scatter(posicion[:, 0], posicion[:, 1])\n",
    "plt.scatter(gBest[0], gBest[1])\n",
    "plt.title('PSO')\n",
    "plt.xlabel('x')\n",
    "plt.ylabel('y')\n",
    "plt.grid()\n",
    "plt.axis([0, 1, 0, 1])\n",
    "plt.show()"
   ]
  },
  {
   "cell_type": "code",
   "execution_count": 10,
   "metadata": {},
   "outputs": [
    {
     "name": "stdout",
     "output_type": "stream",
     "text": [
      "Iteracion 6\n",
      "Global Best: [ 0.02886484 -0.03270019]\n",
      "f(x)= 0.001902481082799107\n",
      "Iteracion 11\n",
      "Global Best: [ 0.03743283 -0.0154801 ]\n",
      "f(x)= 0.0016408500219192803\n",
      "Iteracion 13\n",
      "Global Best: [ 0.02222297 -0.0197828 ]\n",
      "f(x)= 0.0008852193827983278\n",
      "Iteracion 15\n",
      "Global Best: [0.0186112  0.00126115]\n",
      "f(x)= 0.0003479672624967692\n",
      "Iteracion 18\n",
      "Global Best: [0.01098098 0.01251781]\n",
      "f(x)= 0.00027727739423029195\n",
      "Iteracion 22\n",
      "Global Best: [-0.00553752 -0.00909049]\n",
      "f(x)= 0.00011330120121696134\n",
      "Iteracion 25\n",
      "Global Best: [0.00011224 0.00869436]\n",
      "f(x)= 7.560442856973423e-05\n",
      "Iteracion 26\n",
      "Global Best: [0.00109169 0.00173559]\n",
      "f(x)= 4.20406199807402e-06\n",
      "Iteracion 32\n",
      "Global Best: [-0.00088038 -0.00010828]\n",
      "f(x)= 7.867926852955045e-07\n",
      "Iteracion 42\n",
      "Global Best: [ 3.18526007e-05 -1.64703375e-04]\n",
      "f(x)= 2.814178988815665e-08\n",
      "Iteracion 53\n",
      "Global Best: [ 1.20533491e-06 -6.22754748e-05]\n",
      "f(x)= 3.8796875983918256e-09\n",
      "Iteracion 66\n",
      "Global Best: [-1.43032601e-05 -5.87043076e-05]\n",
      "f(x)= 3.6507789839857533e-09\n",
      "Iteracion 67\n",
      "Global Best: [ 3.46662857e-05 -4.03899360e-05]\n",
      "f(x)= 2.8330982888212566e-09\n",
      "Iteracion 71\n",
      "Global Best: [-3.62994807e-05 -3.20708413e-05]\n",
      "f(x)= 2.3461911598004654e-09\n",
      "Iteracion 72\n",
      "Global Best: [-2.98134540e-06 -3.66554782e-05]\n",
      "f(x)= 1.352512501350422e-09\n",
      "Iteracion 73\n",
      "Global Best: [ 1.74099977e-06 -3.39067774e-05]\n",
      "f(x)= 1.1527006304665264e-09\n",
      "Iteracion 76\n",
      "Global Best: [-8.25689352e-06 -2.88005496e-05]\n",
      "f(x)= 8.976479458420483e-10\n",
      "Iteracion 78\n",
      "Global Best: [-2.23767427e-05 -1.85747775e-05]\n",
      "f(x)= 8.457409756897457e-10\n",
      "Iteracion 79\n",
      "Global Best: [-1.06762705e-05 -2.54461008e-05]\n",
      "f(x)= 7.614867956145331e-10\n",
      "Iteracion 80\n",
      "Global Best: [ 3.55088423e-06 -2.09577888e-05]\n",
      "f(x)= 4.518376897818707e-10\n",
      "Iteracion 82\n",
      "Global Best: [-5.10770559e-07 -2.07730872e-05]\n",
      "f(x)= 4.317820391735816e-10\n",
      "Iteracion 83\n",
      "Global Best: [-1.20598612e-06  3.82260006e-06]\n",
      "f(x)= 1.6066673751469267e-11\n",
      "Iteracion 88\n",
      "Global Best: [-7.71733536e-07  1.44910967e-06]\n",
      "f(x)= 2.695491480805393e-12\n",
      "Iteracion 97\n",
      "Global Best: [-1.06137670e-06  1.24122734e-07]\n",
      "f(x)= 1.1419269468301979e-12\n"
     ]
    }
   ],
   "source": [
    "iteracion = 1\n",
    "while iteracion <= 100:\n",
    "    #seleccionar al lider gBest\n",
    "    if np.min(fitness) < valorMin:\n",
    "        valorMin = np.min(fitness)\n",
    "        indiceMin = np.argmin(fitness)\n",
    "        gBest[0] = posicion[indiceMin, 0]\n",
    "        gBest[1] = posicion[indiceMin, 1]\n",
    "        print(\"Iteracion\", iteracion)\n",
    "        print(\"Global Best:\", gBest)\n",
    "        print(\"f(x)=\", valorMin)\n",
    "    for i in range(n):\n",
    "        for j in range(m):\n",
    "            velocidad[i, j] = w * velocidad[i, j] + (c1 * np.random.rand() * (pBest[i, j] - posicion[i, j])) + (c2 * np.random.rand() * (gBest[j] - posicion[i, j]))\n",
    "            posicion[i, j] += velocidad[i, j]\n",
    "    #fitness para x^2 + y^2\n",
    "    for i in range(n):\n",
    "        fitness[i] = posicion[i, 0]**2 + posicion[i, 1]**2\n",
    "    #actualizar el pBest\n",
    "    for i in range(n):\n",
    "        if fitness[i] < pBest[i, 0]**2 + pBest[i, 1]**2:\n",
    "            pBest[i, 0] = posicion[i, 0]\n",
    "            pBest[i, 1] = posicion[i, 1]\n",
    "    iteracion += 1"
   ]
  },
  {
   "cell_type": "code",
   "execution_count": 11,
   "metadata": {},
   "outputs": [
    {
     "data": {
      "image/png": "[encoded data removed]",
      "text/plain": [
       "<Figure size 432x288 with 1 Axes>"
      ]
     },
     "metadata": {
      "needs_background": "light"
     },
     "output_type": "display_data"
    }
   ],
   "source": [
    "plt.scatter(posicion[:, 0], posicion[:, 1])\n",
    "plt.scatter(gBest[0], gBest[1])\n",
    "plt.title('PSO Zoom x100')\n",
    "plt.xlabel('x')\n",
    "plt.ylabel('y')\n",
    "plt.grid()\n",
    "plt.axis([-0.02, 0.02, -0.02, 0.02])\n",
    "plt.show()"
   ]
  }
 ],
 "metadata": {
  "kernelspec": {
   "display_name": "Python 3",
   "language": "python",
   "name": "python3"
  },
  "language_info": {
   "codemirror_mode": {
    "name": "ipython",
    "version": 3
   },
   "file_extension": ".py",
   "mimetype": "text/x-python",
   "name": "python",
   "nbconvert_exporter": "python",
   "pygments_lexer": "ipython3",
   "version": "3.7.3"
  }
 },
 "nbformat": 4,
 "nbformat_minor": 2
}
