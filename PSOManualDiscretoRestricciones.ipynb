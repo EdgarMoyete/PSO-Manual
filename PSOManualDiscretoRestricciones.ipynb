{
 "cells": [
  {
   "cell_type": "code",
   "execution_count": 1,
   "metadata": {},
   "outputs": [],
   "source": [
    "#Edgar Moises Hernandez-Gonzalez\n",
    "#13/06/19-24/06/19\n",
    "#Optimizacion por enjambre de particulas\n",
    "#Minimizar z = f(x,y) = x^2 + y^2\n",
    "#Las posiciones deben ser numeros discretos (enteros)\n",
    "#se debe cumplir que los valores esten entre 3 y 198\n",
    "#dado que es un problema de minimizacion la solucion es [3, 3]"
   ]
  },
  {
   "cell_type": "code",
   "execution_count": 2,
   "metadata": {},
   "outputs": [],
   "source": [
    "import numpy as np\n",
    "import matplotlib.pyplot as plt"
   ]
  },
  {
   "cell_type": "code",
   "execution_count": 3,
   "metadata": {},
   "outputs": [],
   "source": [
    "#tamano de la poblacion\n",
    "n = 32\n",
    "#numero de variables\n",
    "m = 2"
   ]
  },
  {
   "cell_type": "code",
   "execution_count": 4,
   "metadata": {},
   "outputs": [],
   "source": [
    "#inicializar cumulo (enjambre)\n",
    "#posicion = np.random.randint(3, 198 + 1, size = (n, m)) #[bajo, alto) por eso +1\n",
    "#esto es por si cada variable tiene diferente rango de valores\n",
    "x1 = np.random.randint(3, 198 + 1, size = n) #[bajo, alto) por eso +1\n",
    "x2 = np.random.randint(3, 198 + 1, size = n) #[bajo, alto) por eso +1\n",
    "posicion = np.stack((x1, x2), axis = -1)\n",
    "#inicializar velocidades\n",
    "velocidad = np.random.rand(n, m)"
   ]
  },
  {
   "cell_type": "code",
   "execution_count": 5,
   "metadata": {},
   "outputs": [],
   "source": [
    "#estos no deberian ser aleatorios, pero asi dan mejores resultados\n",
    "w = np.random.rand()\n",
    "c1 = np.random.rand()\n",
    "c2 = np.random.rand()"
   ]
  },
  {
   "cell_type": "code",
   "execution_count": 6,
   "metadata": {},
   "outputs": [],
   "source": [
    "#fitness para x^2 + y^2\n",
    "fitness = np.zeros(n)\n",
    "for i in range(n):\n",
    "    fitness[i] = posicion[i, 0]**2 + posicion[i, 1]**2"
   ]
  },
  {
   "cell_type": "code",
   "execution_count": 7,
   "metadata": {},
   "outputs": [],
   "source": [
    "#inicializar pBest\n",
    "pBest = np.zeros((n,m))\n",
    "pBest = pBest.astype(int)\n",
    "for i in range(n):\n",
    "    for j in range(m):\n",
    "        pBest[i, j] = posicion[i, j]"
   ]
  },
  {
   "cell_type": "code",
   "execution_count": 8,
   "metadata": {},
   "outputs": [
    {
     "name": "stdout",
     "output_type": "stream",
     "text": [
      "Global Best: [12. 12.]\n",
      "f(x)= 288.0\n"
     ]
    }
   ],
   "source": [
    "valorMin = np.min(fitness)\n",
    "indiceMin = np.argmin(fitness)\n",
    "gBest = np.zeros(m)\n",
    "for i in range(m):\n",
    "    gBest[i] = posicion[indiceMin, i]\n",
    "print(\"Global Best:\", gBest)\n",
    "print(\"f(x)=\", valorMin)"
   ]
  },
  {
   "cell_type": "code",
   "execution_count": 9,
   "metadata": {},
   "outputs": [
    {
     "data": {
      "image/png": "[encoded data removed]",
      "text/plain": [
       "<Figure size 432x288 with 1 Axes>"
      ]
     },
     "metadata": {
      "needs_background": "light"
     },
     "output_type": "display_data"
    }
   ],
   "source": [
    "plt.scatter(posicion[:, 0], posicion[:, 1])\n",
    "plt.scatter(gBest[0], gBest[1])\n",
    "plt.title('PSO')\n",
    "plt.xlabel('x')\n",
    "plt.ylabel('y')\n",
    "plt.grid()\n",
    "plt.axis([2, 200, 2, 200])\n",
    "plt.show()"
   ]
  },
  {
   "cell_type": "code",
   "execution_count": 10,
   "metadata": {},
   "outputs": [
    {
     "name": "stdout",
     "output_type": "stream",
     "text": [
      "Iteracion 18\n",
      "Global Best: [11. 12.]\n",
      "f(x)= 265.0\n",
      "Iteracion 19\n",
      "Global Best: [11. 11.]\n",
      "f(x)= 242.0\n",
      "Iteracion 20\n",
      "Global Best: [10. 11.]\n",
      "f(x)= 221.0\n",
      "Iteracion 21\n",
      "Global Best: [ 9. 10.]\n",
      "f(x)= 181.0\n",
      "Iteracion 22\n",
      "Global Best: [8. 9.]\n",
      "f(x)= 145.0\n",
      "Iteracion 23\n",
      "Global Best: [7. 8.]\n",
      "f(x)= 113.0\n",
      "Iteracion 24\n",
      "Global Best: [6. 7.]\n",
      "f(x)= 85.0\n",
      "Iteracion 25\n",
      "Global Best: [5. 6.]\n",
      "f(x)= 61.0\n",
      "Iteracion 26\n",
      "Global Best: [4. 5.]\n",
      "f(x)= 41.0\n",
      "Iteracion 27\n",
      "Global Best: [3. 4.]\n",
      "f(x)= 25.0\n",
      "Iteracion 34\n",
      "Global Best: [3. 3.]\n",
      "f(x)= 18.0\n"
     ]
    }
   ],
   "source": [
    "iteracion = 1\n",
    "while iteracion <= 100:\n",
    "    #seleccionar al lider gBest\n",
    "    if np.min(fitness) < valorMin:\n",
    "        valorMin = np.min(fitness)\n",
    "        indiceMin = np.argmin(fitness)\n",
    "        for i in range(m):\n",
    "            gBest[i] = posicion[indiceMin, i]\n",
    "        print(\"Iteracion\", iteracion)\n",
    "        print(\"Global Best:\", gBest)\n",
    "        print(\"f(x)=\", valorMin)\n",
    "    for i in range(n):\n",
    "        for j in range(m):\n",
    "            velocidad[i, j] = w * velocidad[i, j] + (c1 * np.random.rand() * (pBest[i, j] - posicion[i, j])) + (c2 * np.random.rand() * (gBest[j] - posicion[i, j]))\n",
    "            posicion[i, j] += velocidad[i, j]\n",
    "    #fitness para x^2 + y^2\n",
    "    for i in range(n):\n",
    "        if posicion[i, 0] >= 3 and posicion[i, 0] <= 198 and posicion[i, 1] >= 3 and posicion[i, 1] <= 198:\n",
    "            fitness[i] = posicion[i, 0]**2 + posicion[i, 1]**2\n",
    "    #actualizar el pBest\n",
    "    for i in range(n):\n",
    "        if pBest[i, 0] >= 3 and pBest[i, 0] <= 198 and pBest[i, 1] >= 3 and pBest[i, 1] <= 198:\n",
    "            if fitness[i] < pBest[i, 0]**2 + pBest[i, 1]**2:\n",
    "                for j in range(m):\n",
    "                    pBest[i, j] = posicion[i, j]\n",
    "    iteracion += 1"
   ]
  },
  {
   "cell_type": "code",
   "execution_count": 11,
   "metadata": {},
   "outputs": [
    {
     "data": {
      "image/png": "[encoded data removed]",
      "text/plain": [
       "<Figure size 432x288 with 1 Axes>"
      ]
     },
     "metadata": {
      "needs_background": "light"
     },
     "output_type": "display_data"
    }
   ],
   "source": [
    "plt.scatter(posicion[:, 0], posicion[:, 1])\n",
    "plt.scatter(gBest[0], gBest[1])\n",
    "plt.title('PSO Zoom x10')\n",
    "plt.xlabel('x')\n",
    "plt.ylabel('y')\n",
    "plt.grid()\n",
    "plt.axis([2, 20, 2, 20])\n",
    "plt.show()"
   ]
  }
 ],
 "metadata": {
  "kernelspec": {
   "display_name": "Python 3",
   "language": "python",
   "name": "python3"
  },
  "language_info": {
   "codemirror_mode": {
    "name": "ipython",
    "version": 3
   },
   "file_extension": ".py",
   "mimetype": "text/x-python",
   "name": "python",
   "nbconvert_exporter": "python",
   "pygments_lexer": "ipython3",
   "version": "3.7.0"
  }
 },
 "nbformat": 4,
 "nbformat_minor": 2
}
